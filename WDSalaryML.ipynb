{
  "cells": [
    {
      "cell_type": "markdown",
      "metadata": {
        "id": "3Bm3pTujmDHO"
      },
      "source": [
        "# Web Developers Salary Reports (Canada)"
      ]
    },
    {
      "cell_type": "markdown",
      "metadata": {
        "id": "pagmDySQmWmc"
      },
      "source": [
        "## Import Libraries"
      ]
    },
    {
      "cell_type": "code",
      "execution_count": 17,
      "metadata": {
        "id": "wDpOUeI8mCKP"
      },
      "outputs": [],
      "source": [
        "import numpy as np\n",
        "import matplotlib.pyplot as plt\n",
        "import pandas as pd"
      ]
    },
    {
      "cell_type": "markdown",
      "metadata": {
        "id": "YQtpG8R4mec1"
      },
      "source": [
        "## Import Dataset"
      ]
    },
    {
      "cell_type": "code",
      "execution_count": 18,
      "metadata": {
        "id": "PHLvFk9tmhTs"
      },
      "outputs": [],
      "source": [
        "dataset = pd.read_csv(\"WD_salaries_Canada.csv\")\n",
        "X = dataset.iloc[:, :-1].values\n",
        "y = dataset.iloc[:, -1].values"
      ]
    },
    {
      "cell_type": "code",
      "execution_count": 19,
      "metadata": {
        "colab": {
          "base_uri": "https://localhost:8080/"
        },
        "id": "VI_pMKc8mzfg",
        "outputId": "7776e020-43b0-4cd2-f48b-295e54923c63"
      },
      "outputs": [
        {
          "name": "stdout",
          "output_type": "stream",
          "text": [
            "[['Toronto' 5.1]\n",
            " ['Calgary' 1.4]\n",
            " ['Calgary' 8.6]\n",
            " ['Calgary' 6.7]\n",
            " ['Calgary' 2.2]\n",
            " ['Montreal' 4.9]\n",
            " ['Vancouver' 7.4]\n",
            " ['Vancouver' 8.5]\n",
            " ['Halifax' 2.3]\n",
            " ['Calgary' 4.0]\n",
            " ['Montreal' 3.1]\n",
            " ['Vancouver' 6.2]\n",
            " ['Toronto' 7.3]\n",
            " ['Montreal' 5.4]\n",
            " ['Halifax' 7.5]\n",
            " ['Toronto' 3.6]\n",
            " ['Toronto' 8.7]\n",
            " ['Toronto' 6.8]\n",
            " ['Vancouver' 3.9]\n",
            " ['Halifax' 3.0]\n",
            " ['Toronto' 4.1]\n",
            " ['Montreal' 1.2]\n",
            " ['Calgary' 7.3]\n",
            " ['Calgary' 3.4]\n",
            " ['Toronto' 1.5]\n",
            " ['Montreal' 8.6]\n",
            " ['Halifax' 4.7]\n",
            " ['Vancouver' 1.8]\n",
            " ['Vancouver' 5.9]\n",
            " ['Calgary' 5.0]\n",
            " ['Vancouver' 2.1]\n",
            " ['Halifax' 8.2]\n",
            " ['Vancouver' 4.3]\n",
            " ['Halifax' 5.4]\n",
            " ['Halifax' 1.5]\n",
            " ['Montreal' 6.6]\n",
            " ['Montreal' 2.7]\n",
            " ['Halifax' 6.8]\n",
            " ['Toronto' 2.9]\n",
            " ['Montreal' 7.0]]\n"
          ]
        }
      ],
      "source": [
        "print(X)"
      ]
    },
    {
      "cell_type": "code",
      "execution_count": 20,
      "metadata": {},
      "outputs": [
        {
          "name": "stdout",
          "output_type": "stream",
          "text": [
            "[ 96000  54000 146000 103000  64000  82000 127000 160000  55000  81000\n",
            "  72000 114000 134000  91000 110000  75000 161000 110000  83000  63000\n",
            "  83000  50000 122000  73000  52000 150000  71000  55000 102000  97000\n",
            "  71000 132000  90000  89000  47000 101000  60000  97000  67000 120000]\n"
          ]
        }
      ],
      "source": [
        "print(y)"
      ]
    },
    {
      "cell_type": "markdown",
      "metadata": {},
      "source": [
        "# Encoding Categorical Data"
      ]
    },
    {
      "cell_type": "code",
      "execution_count": 21,
      "metadata": {},
      "outputs": [],
      "source": [
        "from sklearn.compose import ColumnTransformer\n",
        "from sklearn.preprocessing import OneHotEncoder\n",
        "ct = ColumnTransformer(transformers = [(\"encoder\", OneHotEncoder(), [0])], remainder=\"passthrough\")\n",
        "X = np.array(ct.fit_transform(X))"
      ]
    },
    {
      "cell_type": "code",
      "execution_count": 22,
      "metadata": {},
      "outputs": [
        {
          "name": "stdout",
          "output_type": "stream",
          "text": [
            "[[0.0 0.0 0.0 1.0 0.0 5.1]\n",
            " [1.0 0.0 0.0 0.0 0.0 1.4]\n",
            " [1.0 0.0 0.0 0.0 0.0 8.6]\n",
            " [1.0 0.0 0.0 0.0 0.0 6.7]\n",
            " [1.0 0.0 0.0 0.0 0.0 2.2]\n",
            " [0.0 0.0 1.0 0.0 0.0 4.9]\n",
            " [0.0 0.0 0.0 0.0 1.0 7.4]\n",
            " [0.0 0.0 0.0 0.0 1.0 8.5]\n",
            " [0.0 1.0 0.0 0.0 0.0 2.3]\n",
            " [1.0 0.0 0.0 0.0 0.0 4.0]\n",
            " [0.0 0.0 1.0 0.0 0.0 3.1]\n",
            " [0.0 0.0 0.0 0.0 1.0 6.2]\n",
            " [0.0 0.0 0.0 1.0 0.0 7.3]\n",
            " [0.0 0.0 1.0 0.0 0.0 5.4]\n",
            " [0.0 1.0 0.0 0.0 0.0 7.5]\n",
            " [0.0 0.0 0.0 1.0 0.0 3.6]\n",
            " [0.0 0.0 0.0 1.0 0.0 8.7]\n",
            " [0.0 0.0 0.0 1.0 0.0 6.8]\n",
            " [0.0 0.0 0.0 0.0 1.0 3.9]\n",
            " [0.0 1.0 0.0 0.0 0.0 3.0]\n",
            " [0.0 0.0 0.0 1.0 0.0 4.1]\n",
            " [0.0 0.0 1.0 0.0 0.0 1.2]\n",
            " [1.0 0.0 0.0 0.0 0.0 7.3]\n",
            " [1.0 0.0 0.0 0.0 0.0 3.4]\n",
            " [0.0 0.0 0.0 1.0 0.0 1.5]\n",
            " [0.0 0.0 1.0 0.0 0.0 8.6]\n",
            " [0.0 1.0 0.0 0.0 0.0 4.7]\n",
            " [0.0 0.0 0.0 0.0 1.0 1.8]\n",
            " [0.0 0.0 0.0 0.0 1.0 5.9]\n",
            " [1.0 0.0 0.0 0.0 0.0 5.0]\n",
            " [0.0 0.0 0.0 0.0 1.0 2.1]\n",
            " [0.0 1.0 0.0 0.0 0.0 8.2]\n",
            " [0.0 0.0 0.0 0.0 1.0 4.3]\n",
            " [0.0 1.0 0.0 0.0 0.0 5.4]\n",
            " [0.0 1.0 0.0 0.0 0.0 1.5]\n",
            " [0.0 0.0 1.0 0.0 0.0 6.6]\n",
            " [0.0 0.0 1.0 0.0 0.0 2.7]\n",
            " [0.0 1.0 0.0 0.0 0.0 6.8]\n",
            " [0.0 0.0 0.0 1.0 0.0 2.9]\n",
            " [0.0 0.0 1.0 0.0 0.0 7.0]]\n"
          ]
        }
      ],
      "source": [
        "print(X)"
      ]
    },
    {
      "cell_type": "markdown",
      "metadata": {},
      "source": [
        "# Splitting the dataset into the Training set and Test set"
      ]
    },
    {
      "cell_type": "code",
      "execution_count": 23,
      "metadata": {},
      "outputs": [],
      "source": [
        "from sklearn.model_selection import train_test_split\n",
        "X_train, X_test, y_train, y_test = train_test_split(X, y, test_size = 0.2, random_state = 0)"
      ]
    }
  ],
  "metadata": {
    "colab": {
      "name": "WDSalaryML.ipynb",
      "provenance": []
    },
    "kernelspec": {
      "display_name": "Python 3",
      "name": "python3"
    },
    "language_info": {
      "codemirror_mode": {
        "name": "ipython",
        "version": 3
      },
      "file_extension": ".py",
      "mimetype": "text/x-python",
      "name": "python",
      "nbconvert_exporter": "python",
      "pygments_lexer": "ipython3",
      "version": "3.8.8"
    }
  },
  "nbformat": 4,
  "nbformat_minor": 0
}
